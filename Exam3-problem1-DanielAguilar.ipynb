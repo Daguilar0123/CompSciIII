{
 "cells": [
  {
   "cell_type": "code",
   "execution_count": 1,
   "id": "5c8fe537",
   "metadata": {},
   "outputs": [],
   "source": [
    "\"\"\"\n",
    "1. (15 points) Quicksort and Counting Sort\n",
    "(a) Given the list: [12, 5, 1, 7, 2, 9, 5, 3, 8, 4, 6], show the first partition\n",
    "step in Quicksort if the pivot is chosen as the last element.\n",
    "\"\"\"\n",
    "class Array(object):\n",
    "    def __init__(self, initialSize):    # Constructor\n",
    "        self.__a = [None] * initialSize # The array storst as a list\n",
    "        self.__nItems = 0               # No items in array initially\n",
    "\n",
    "    def __len__(self):          # Special def for len() func\n",
    "        return self.__nItems    # Return number of items\n",
    "\n",
    "    def get(self, n):           # Return the value at index n\n",
    "        if 0 <= n and n < self.__nItems:    # Check if n is in bounds, and\n",
    "            return self.__a[n]              # only return item if in bounds\n",
    "\n",
    "    def set(self, n, value):    # Set the value at index n\n",
    "        if 0 <= n and n < self.__nItems:    # Check if n is in bounds, and\n",
    "            self.__a[n] = value             # only set item if in bounds\n",
    "\n",
    "    def swap(self, j, k):       # Swap the values at 2 indices\n",
    "        if (0 <= j and j < self.__nItems and    # Check if indices are in\n",
    "            0 <= k and k < self.__nItems):      # in bounds, before processing\n",
    "            self.__a[j], self.__a[k] = self.__a[k], self.__a[j] # Swap items\n",
    "\n",
    "    def insert(self, item):     # Insert item at end\n",
    "        self.__a[self.__nItems] = item          # Item goes at current end\n",
    "        self.__nItems += 1                      # Increment number of items\n",
    "\n",
    "    def find(self, item):       # Find index for item\n",
    "        for j in range(self.__nItems):   # Iterate through all items\n",
    "            if self.__a[j] == item:      # If found at index j,\n",
    "                return j                 # then return index to element\n",
    "        return -1                        # Item not found\n",
    "\n",
    "    def search(self, item):              # Search for item\n",
    "        return self.get(self.find(item)) # and return item if found\n",
    "\n",
    "    def delete(self, item):              # Delete first occurrence\n",
    "        for j in range(self.__nItems):   # of an item\n",
    "            if self.__a[j] == item:      # If item found\n",
    "                self.__nItems -= 1       # Decrement number of items\n",
    "                for k in range(j, self__nItems): # Move items from\n",
    "                    self.__a[k] = self.__a[k+1] # right over 1\n",
    "                return True              # Return success flag\n",
    "        return False                     # Item not found\n",
    "\n",
    "    def traverse(self, function=print):  # Traverse all items\n",
    "        for j in range(self.__nItems):   # and apply a function\n",
    "            function(self.__a[j])\n",
    "\n",
    "    def __str__(self):                   # Special def for str() func\n",
    "        ans = \"[\"                        # Left bracket\n",
    "        for i in range(self.__nItems):   # Loop through items\n",
    "            if len(ans) > 1:             # Except next to left bracket,\n",
    "                ans += \",\"               # separate items with comma\n",
    "            ans += str(self.__a[i])      # Add string form of item\n",
    "        ans += \"]\"                       # Close with right bracket\n",
    "        return ans"
   ]
  },
  {
   "cell_type": "code",
   "execution_count": 2,
   "id": "4166c637",
   "metadata": {},
   "outputs": [
    {
     "name": "stdout",
     "output_type": "stream",
     "text": [
      "Before partition: [12,5,1,7,2,9,5,3,8,4,6]\n",
      "After partition:  [5,1,2,5,3,4,6,12,8,9,7]\n",
      "Pivot 6 is now at index 6\n"
     ]
    }
   ],
   "source": [
    "def identity(x):    return x    # Identity function\n",
    "\n",
    "class QuickArray(Array):\n",
    "    def partition(self, lo, hi, key=identity):\n",
    "        pivot = self.get(hi)\n",
    "        i = lo - 1\n",
    "        for j in range(lo, hi):\n",
    "            if key(self.get(j)) <= key(pivot):\n",
    "                i += 1\n",
    "                self.swap(i, j)\n",
    "        # put pivot into position i + 1\n",
    "        self.swap(i+1, hi)\n",
    "        return i+1\n",
    "\n",
    "# Test data from Problem #1\n",
    "values = [12, 5, 1, 7, 2, 9, 5, 3, 8, 4, 6]\n",
    "\n",
    "# Build and populate the Array\n",
    "qa = QuickArray(len(values))\n",
    "for v in values:\n",
    "    qa.insert(v)\n",
    "\n",
    "# Show before/after partition and pivot index\n",
    "print(\"Before partition:\", qa)\n",
    "p = qa.partition(0, len(qa)-1)\n",
    "print(\"After partition: \", qa)\n",
    "print(f\"Pivot {qa.get(p)} is now at index {p}\")"
   ]
  },
  {
   "cell_type": "markdown",
   "id": "ea69546f",
   "metadata": {},
   "source": [
    "**1.   \n",
    "(b) Describe a situation where Counting Sort would be a better choice than Quicksort.**\n",
    "\n",
    "One instance in which Counting Sort would be a better choice than Quicksort is when the keys are small, non-negative integers dreawn from a known range. This allows"
   ]
  },
  {
   "cell_type": "markdown",
   "id": "5e776d46",
   "metadata": {},
   "source": []
  }
 ],
 "metadata": {
  "kernelspec": {
   "display_name": "Python 3",
   "language": "python",
   "name": "python3"
  },
  "language_info": {
   "codemirror_mode": {
    "name": "ipython",
    "version": 3
   },
   "file_extension": ".py",
   "mimetype": "text/x-python",
   "name": "python",
   "nbconvert_exporter": "python",
   "pygments_lexer": "ipython3",
   "version": "3.12.4"
  }
 },
 "nbformat": 4,
 "nbformat_minor": 5
}
