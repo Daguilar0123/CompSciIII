{
 "cells": [
  {
   "cell_type": "markdown",
   "id": "7208a686",
   "metadata": {},
   "source": [
    "Daniel Aguilar\n",
    "Homework3\n",
    "CSP 228\n",
    "Prof. James Liporace\n",
    "04/14/2025"
   ]
  },
  {
   "cell_type": "markdown",
   "id": "c201100f",
   "metadata": {},
   "source": [
    "**Instructions**  \n",
    "Progrmming Projects\n",
    "\n",
    "Chapter 6 \n",
    "\n",
    "6.2,6.3,6.4\n",
    "\n",
    "Chapter 7 \n",
    "\n",
    "7.1,.7.2,7.3,.7.4\n",
    "\n"
   ]
  },
  {
   "cell_type": "markdown",
   "id": "e31faadb",
   "metadata": {},
   "source": [
    "**Problem 6.2**  \n",
    "\n",
    "Every positive integer can be divided into a set of integer factors. The\n",
    "minimum set of factors must be a collection of prime numbers, where a\n",
    "prime number is one that is only evenly divisible by 1 and itself. Write a\n",
    "recursive function, factor(), that returns the list of integer factors of x.\n",
    "\n",
    "If you haven’t worked with factoring before, it is helpful to know that\n",
    "only the factors between 2 and the square root of x need to be tested.\n",
    "Instead of doing those with a loop, add a second, optional parameter to\n",
    "factor(x, lowest) that is the lowest possible integer factor of x. The\n",
    "recursive function should check for the base case(s), and make recursive\n",
    "calls based on whether lowest evenly divides x (x % lowest == 0). If\n",
    "it does, then add lowest to the factors of x divided by lowest. If lowest\n",
    "doesn’t evenly divide x, then look for factors with the next higher\n",
    "possible factor. Ideally, the next higher factor would always be the next\n",
    "higher prime number. There are algorithms for that, but for this\n",
    "exercise, it’s sufficient to try the next higher integer. You may use\n",
    "Python’s built-in list structure to assemble the factors or the\n",
    "LinkedList structure of Chapter 5. Note that a factor can appear more\n",
    "than once in the final list. For extra utility, handle requests for the\n",
    "factors of negative integers by returning the factors of the positive\n",
    "version but with the factor 1 replaced by −1. Test your function on some\n",
    "compound (nonprime) and prime numbers and the special cases of 0\n",
    "and 1."
   ]
  },
  {
   "cell_type": "code",
   "execution_count": null,
   "id": "6b5c6dba",
   "metadata": {},
   "outputs": [],
   "source": []
  }
 ],
 "metadata": {
  "language_info": {
   "name": "python"
  }
 },
 "nbformat": 4,
 "nbformat_minor": 5
}
